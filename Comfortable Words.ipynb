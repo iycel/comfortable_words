{
 "cells": [
  {
   "cell_type": "code",
   "execution_count": 1,
   "metadata": {},
   "outputs": [],
   "source": [
    "lefthand = set(\"qaz12wsx3edc4rfv5tgb6\")\r\n",
    "righthand = set(\"yhn7ujm9ol.0p\")"
   ]
  },
  {
   "cell_type": "code",
   "execution_count": 2,
   "metadata": {},
   "outputs": [
    {
     "name": "stdout",
     "output_type": "stream",
     "text": [
      "{'w', 'x', '3', '6', 'f', '5', 'g', 't', 'r', 'v', 'z', '1', 'd', '4', '2', 's', 'b', 'a', 'q', 'c', 'e'}\n"
     ]
    }
   ],
   "source": [
    "print(lefthand)"
   ]
  },
  {
   "cell_type": "code",
   "execution_count": 3,
   "metadata": {},
   "outputs": [
    {
     "name": "stdout",
     "output_type": "stream",
     "text": [
      "{'0', 'm', 'n', 'j', '.', 'h', 'o', 'y', 'p', 'u', 'l', '9', '7'}\n"
     ]
    }
   ],
   "source": [
    "print(righthand)"
   ]
  },
  {
   "cell_type": "code",
   "execution_count": 17,
   "metadata": {},
   "outputs": [
    {
     "name": "stdout",
     "output_type": "stream",
     "text": [
      "True\n"
     ]
    }
   ],
   "source": [
    "lefthand = set(\"qaz12wsx3edc4rfv5tgb6\")\r\n",
    "righthand = set(\"yhn7ujm9ol.0p\")\r\n",
    "word = set(input(\"Enter a word\"))\r\n",
    "leftcheck = word.intersection(lefthand)\r\n",
    "rightcheck = word.intersection(righthand)\r\n",
    "print(bool(leftcheck) and bool(rightcheck))"
   ]
  }
 ],
 "metadata": {
  "kernelspec": {
   "display_name": "Python 3.9.4 64-bit",
   "name": "python394jvsc74a57bd078a214b6e0a0f5413b50d8e6655c544a8a50d5c3e1483549f379d73b74a266ff"
  },
  "language_info": {
   "name": "python",
   "version": ""
  },
  "metadata": {
   "interpreter": {
    "hash": "78a214b6e0a0f5413b50d8e6655c544a8a50d5c3e1483549f379d73b74a266ff"
   }
  },
  "orig_nbformat": 2
 },
 "nbformat": 4,
 "nbformat_minor": 2
}